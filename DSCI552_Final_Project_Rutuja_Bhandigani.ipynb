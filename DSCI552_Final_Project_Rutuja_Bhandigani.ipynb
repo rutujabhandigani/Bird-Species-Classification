{
  "nbformat": 4,
  "nbformat_minor": 0,
  "metadata": {
    "colab": {
      "provenance": []
    },
    "kernelspec": {
      "name": "python3",
      "display_name": "Python 3"
    },
    "language_info": {
      "name": "python"
    }
  },
  "cells": [
    {
      "cell_type": "code",
      "execution_count": 1,
      "metadata": {
        "colab": {
          "base_uri": "https://localhost:8080/"
        },
        "id": "cA5ShPNC2Dr0",
        "outputId": "d18f4853-6998-4341-c05c-df29f63a0b65"
      },
      "outputs": [
        {
          "output_type": "stream",
          "name": "stdout",
          "text": [
            "Mounted at /content/drive\n"
          ]
        }
      ],
      "source": [
        "import pandas as pd\n",
        "import numpy as np\n",
        "import matplotlib.pyplot as plt\n",
        "import tensorflow as tf\n",
        "from tensorflow import keras\n",
        "import os\n",
        "from google.colab import drive\n",
        "drive.mount('/content/drive')"
      ]
    },
    {
      "cell_type": "code",
      "source": [
        "os.chdir(\"drive/MyDrive/Data/\")"
      ],
      "metadata": {
        "id": "LaXewCRo2Wtu"
      },
      "execution_count": 2,
      "outputs": []
    },
    {
      "cell_type": "code",
      "source": [
        "class_file = pd.read_excel('Classes.xlsx')\n",
        "classes = class_file['Class']\n",
        "classes_dir = ['005.Crested_Auklet', '013.Bobolink', '015.Lazuli_Bunting', '023.Brandt_Cormorant', '040.Olive_sided_Flycatcher', '041.Scissor_tailed_Flycatcher', '067.Anna_Hummingbird', '072.Pomarine_Jaeger', '076.Dark_eyed_Junco','081.Pied_Kingfisher', '082.Ringed_Kingfisher', '086.Pacific_Loon', '099.Ovenbird', '104.American_Pipit', '127.Savannah_Sparrow', '135.Bank_Swallow', '141.Artic_Tern', '149.Brown_Thrasher', '156.White_eyed_Vireo', '168.Kentucky_Warbler']\n",
        "data_root = \"/content/drive/MyDrive/Data/images/\""
      ],
      "metadata": {
        "id": "H2hCI08y2cgq"
      },
      "execution_count": 3,
      "outputs": []
    },
    {
      "cell_type": "markdown",
      "source": [
        "Randomly select 0.7ni images from each folder as your training set, 0.15ni\n",
        "as validation set, and the rest as your test set, where ni is the number of\n",
        "images in folder i and dxe is the ceiling of x."
      ],
      "metadata": {
        "id": "JHo5XnacowEV"
      }
    },
    {
      "cell_type": "code",
      "source": [
        "import shutil\n",
        "\n",
        "def train_test_split():\n",
        "    root_dir = 'output_images'\n",
        "    processed_dir = 'images'\n",
        "\n",
        "    val_ratio = 0.15\n",
        "    test_ratio = 0.15\n",
        "\n",
        "    for cls in classes_dir:\n",
        "        print(\"Class Name \" + cls )\n",
        "        src = processed_dir +\"//\" + cls  # Folder to copy images from\n",
        "\n",
        "        allFileNames = os.listdir(src)\n",
        "        np.random.shuffle(allFileNames)\n",
        "        train_FileNames, val_FileNames, test_FileNames = np.split(np.array(allFileNames),\n",
        "                                                                  [int(len(allFileNames) * (1 - (val_ratio + test_ratio))),\n",
        "                                                                   int(len(allFileNames) * (1 - val_ratio)),\n",
        "                                                                   ])\n",
        "        train_FileNames = [src + '//' + name for name in train_FileNames.tolist()]\n",
        "        val_FileNames = [src + '//' + name for name in val_FileNames.tolist()]\n",
        "        test_FileNames = [src + '//' + name for name in test_FileNames.tolist()]\n",
        "\n",
        "        print('Total images: '+ str(len(allFileNames)))\n",
        "        print('Training: '+ str(len(train_FileNames)))\n",
        "        print('Validation: '+  str(len(val_FileNames)))\n",
        "        print('Testing: '+ str(len(test_FileNames)))\n",
        "        print('-'*35)\n",
        "\n",
        "        # # Creating Train / Val / Test folders (One time use)\n",
        "        os.makedirs(root_dir + '/train//' + cls)\n",
        "        os.makedirs(root_dir + '/val//' + cls)\n",
        "        os.makedirs(root_dir + '/test//' + cls)\n",
        "\n",
        "        # Copy-pasting images\n",
        "        for name in train_FileNames:\n",
        "            shutil.copy(name, root_dir + '/train//' + cls)\n",
        "\n",
        "        for name in val_FileNames:\n",
        "            shutil.copy(name, root_dir + '/val//' + cls)\n",
        "\n",
        "        for name in test_FileNames:\n",
        "            shutil.copy(name, root_dir + '/test//' + cls)\n",
        "\n"
      ],
      "metadata": {
        "id": "GC8ddVlS2hLz"
      },
      "execution_count": 4,
      "outputs": []
    },
    {
      "cell_type": "code",
      "source": [
        "train_test_split()"
      ],
      "metadata": {
        "id": "RBLzV1GP2p7N",
        "colab": {
          "base_uri": "https://localhost:8080/"
        },
        "outputId": "9ae6283a-dc22-4b91-a1bc-e8920c67d01f"
      },
      "execution_count": null,
      "outputs": [
        {
          "output_type": "stream",
          "name": "stdout",
          "text": [
            "Class Name 005.Crested_Auklet\n",
            "Total images: 44\n",
            "Training: 30\n",
            "Validation: 7\n",
            "Testing: 7\n",
            "-----------------------------------\n",
            "Class Name 013.Bobolink\n",
            "Total images: 60\n",
            "Training: 42\n",
            "Validation: 9\n",
            "Testing: 9\n",
            "-----------------------------------\n",
            "Class Name 015.Lazuli_Bunting\n",
            "Total images: 58\n",
            "Training: 40\n",
            "Validation: 9\n",
            "Testing: 9\n",
            "-----------------------------------\n",
            "Class Name 023.Brandt_Cormorant\n",
            "Total images: 59\n",
            "Training: 41\n",
            "Validation: 9\n",
            "Testing: 9\n",
            "-----------------------------------\n",
            "Class Name 040.Olive_sided_Flycatcher\n",
            "Total images: 60\n",
            "Training: 42\n",
            "Validation: 9\n",
            "Testing: 9\n",
            "-----------------------------------\n",
            "Class Name 041.Scissor_tailed_Flycatcher\n",
            "Total images: 60\n",
            "Training: 42\n",
            "Validation: 9\n",
            "Testing: 9\n",
            "-----------------------------------\n",
            "Class Name 067.Anna_Hummingbird\n",
            "Total images: 60\n",
            "Training: 42\n",
            "Validation: 9\n",
            "Testing: 9\n",
            "-----------------------------------\n",
            "Class Name 072.Pomarine_Jaeger\n",
            "Total images: 60\n",
            "Training: 42\n",
            "Validation: 9\n",
            "Testing: 9\n",
            "-----------------------------------\n",
            "Class Name 076.Dark_eyed_Junco\n",
            "Total images: 60\n",
            "Training: 42\n",
            "Validation: 9\n",
            "Testing: 9\n",
            "-----------------------------------\n",
            "Class Name 081.Pied_Kingfisher\n",
            "Total images: 60\n",
            "Training: 42\n",
            "Validation: 9\n",
            "Testing: 9\n",
            "-----------------------------------\n",
            "Class Name 082.Ringed_Kingfisher\n",
            "Total images: 60\n",
            "Training: 42\n",
            "Validation: 9\n",
            "Testing: 9\n",
            "-----------------------------------\n",
            "Class Name 086.Pacific_Loon\n",
            "Total images: 60\n",
            "Training: 42\n",
            "Validation: 9\n",
            "Testing: 9\n",
            "-----------------------------------\n",
            "Class Name 099.Ovenbird\n",
            "Total images: 60\n",
            "Training: 42\n",
            "Validation: 9\n",
            "Testing: 9\n",
            "-----------------------------------\n",
            "Class Name 104.American_Pipit\n",
            "Total images: 60\n",
            "Training: 42\n",
            "Validation: 9\n",
            "Testing: 9\n",
            "-----------------------------------\n",
            "Class Name 127.Savannah_Sparrow\n",
            "Total images: 60\n",
            "Training: 42\n",
            "Validation: 9\n",
            "Testing: 9\n",
            "-----------------------------------\n",
            "Class Name 135.Bank_Swallow\n",
            "Total images: 59\n",
            "Training: 41\n",
            "Validation: 9\n",
            "Testing: 9\n",
            "-----------------------------------\n",
            "Class Name 141.Artic_Tern\n",
            "Total images: 58\n",
            "Training: 40\n",
            "Validation: 9\n",
            "Testing: 9\n",
            "-----------------------------------\n",
            "Class Name 149.Brown_Thrasher\n",
            "Total images: 59\n",
            "Training: 41\n",
            "Validation: 9\n",
            "Testing: 9\n",
            "-----------------------------------\n",
            "Class Name 156.White_eyed_Vireo\n",
            "Total images: 60\n",
            "Training: 42\n",
            "Validation: 9\n",
            "Testing: 9\n",
            "-----------------------------------\n",
            "Class Name 168.Kentucky_Warbler\n",
            "Total images: 59\n",
            "Training: 41\n",
            "Validation: 9\n",
            "Testing: 9\n",
            "-----------------------------------\n"
          ]
        }
      ]
    },
    {
      "cell_type": "markdown",
      "source": [
        "In order for all the images to have the same size, zero-pad or resize the images\n",
        "in your dataset."
      ],
      "metadata": {
        "id": "1hCrJT7mo_RA"
      }
    },
    {
      "cell_type": "code",
      "source": [
        "train_data = keras.utils.image_dataset_from_directory(\n",
        "    directory='/content/drive/MyDrive/Data/output_images/train/',\n",
        "    labels='inferred',\n",
        "    label_mode='categorical',\n",
        "    batch_size=5,\n",
        "    image_size=(224, 224))\n",
        "val_data = keras.utils.image_dataset_from_directory(\n",
        "    directory='/content/drive/MyDrive/Data/output_images/val/',\n",
        "    labels='inferred',\n",
        "    label_mode='categorical',\n",
        "    batch_size=5,\n",
        "    image_size=(224, 224))\n",
        "test_data = keras.utils.image_dataset_from_directory(\n",
        "    directory='/content/drive/MyDrive/Data/output_images/test/',\n",
        "    labels='inferred',\n",
        "    label_mode='categorical',\n",
        "    batch_size=5,\n",
        "    image_size=(224, 224))\n",
        "\n",
        "#model = keras.applications.Xception(weights=None, input_shape=(224, 224, 3), classes=20)"
      ],
      "metadata": {
        "id": "3Hu5luIv4Apw",
        "colab": {
          "base_uri": "https://localhost:8080/"
        },
        "outputId": "0ee9f418-f448-4526-c2eb-55fc3f7ff4ae"
      },
      "execution_count": 5,
      "outputs": [
        {
          "output_type": "stream",
          "name": "stdout",
          "text": [
            "Found 820 files belonging to 20 classes.\n",
            "Found 178 files belonging to 20 classes.\n",
            "Found 178 files belonging to 20 classes.\n"
          ]
        }
      ]
    },
    {
      "cell_type": "code",
      "source": [
        "train_ds_labels=[]\n",
        "for images, labels in train_data.unbatch():\n",
        "    train_ds_labels.append(labels) # or labels.numpy().argmax() for int labels\n",
        "\n",
        "test_ds_labels=[]\n",
        "for images, labels in test_data.unbatch():\n",
        "    test_ds_labels.append(labels) # or labels.numpy().argmax() for int labels\n",
        "\n",
        "#train_ds_labels"
      ],
      "metadata": {
        "id": "v-cUlZH2z0LP"
      },
      "execution_count": 44,
      "outputs": []
    },
    {
      "cell_type": "code",
      "source": [
        "#train_data = train_ds.map(lambda x, y: (x, tf.one_hot(classes, depth=20)))\n",
        "#val_data = validation_ds.map(lambda x, y: (x, tf.one_hot(classes, depth=20)))"
      ],
      "metadata": {
        "id": "b7GVew3z5INi"
      },
      "execution_count": null,
      "outputs": []
    },
    {
      "cell_type": "markdown",
      "source": [
        "**Model: Efficientnetb0**"
      ],
      "metadata": {
        "id": "xwltSa4QQdX-"
      }
    },
    {
      "cell_type": "code",
      "source": [
        "from keras.layers.pooling.global_average_pooling2d import GlobalAveragePooling2D\n",
        "from keras.layers.pooling.global_max_pooling2d import GlobalMaxPooling2D\n",
        "from tensorflow import keras\n",
        "from tensorflow.keras.applications import EfficientNetB0\n",
        "from tensorflow.keras.models import Sequential\n",
        "from tensorflow.keras import layers\n",
        "from tensorflow.keras.optimizers import Adam\n",
        "from tensorflow.keras import activations\n",
        "from tensorflow.keras.layers import GlobalAveragePooling2D\n",
        "from keras.layers import Dense, Dropout, Flatten\n",
        "tf.get_logger().setLevel('ERROR')\n",
        "\n",
        "\n",
        "def model_efficientnetb0():\n",
        "  num_classes = 20\n",
        "  image_size = 224\n",
        "  inputs = layers.Input(shape=(image_size, image_size, 3))\n",
        "  img_augmentation = Sequential(\n",
        "        [\n",
        "            layers.RandomZoom(0.3),\n",
        "            layers.RandomCrop(height= 50, width= 50),\n",
        "            layers.RandomRotation(factor=0.15),\n",
        "            layers.RandomTranslation(height_factor=0.1, width_factor=0.1),\n",
        "            layers.RandomFlip(),\n",
        "            layers.RandomContrast(factor=0.1),\n",
        "        ],\n",
        "        name=\"img_augmentation\",\n",
        "    )\n",
        "  x = img_augmentation(inputs)\n",
        "  #freeze the top layers\n",
        "  model = EfficientNetB0(include_top=False, input_tensor=x, weights= 'imagenet')\n",
        "  model.trainable = False\n",
        "\n",
        "  model_effnet = Sequential()\n",
        "  model_effnet.add(model)\n",
        "  model_effnet.add(keras.layers.BatchNormalization())\n",
        "  model_effnet.add(keras.layers.Activation(activations.relu))\n",
        "  model_effnet.add(GlobalMaxPooling2D())\n",
        "  model_effnet.add(Dropout(0.2))\n",
        "  model_effnet.add(Dense(num_classes, activation= 'softmax'))\n",
        "  model_effnet.summary()\n",
        "\n",
        "  #optimizer = tf.keras.optimizers.Adam(learning_rate=0.001)\n",
        "  #model_effnet.compile(optimizer= optimizer, loss='categorical_crossentropy', metrics=['accuracy'])\n",
        "    \n",
        "  return model_effnet"
      ],
      "metadata": {
        "id": "H6H-u4HLnRoR"
      },
      "execution_count": 64,
      "outputs": []
    },
    {
      "cell_type": "code",
      "source": [
        "model_effnet = model_efficientnetb0()\n",
        "optimizer = tf.keras.optimizers.Adam(learning_rate=0.001)\n",
        "model_effnet.compile(optimizer= optimizer, loss='categorical_crossentropy', metrics=['accuracy'])\n",
        "hist_effnet = model_effnet.fit(train_data, epochs=50, callbacks= tf.keras.callbacks.EarlyStopping(monitor='loss', patience=5, mode = 'auto', restore_best_weights= True),validation_data=val_data, verbose=2)"
      ],
      "metadata": {
        "colab": {
          "base_uri": "https://localhost:8080/"
        },
        "id": "aiPml6HirhLi",
        "outputId": "45b01242-9054-4454-8e68-dd027c66d2f7"
      },
      "execution_count": 65,
      "outputs": [
        {
          "output_type": "stream",
          "name": "stdout",
          "text": [
            "Model: \"sequential_17\"\n",
            "_________________________________________________________________\n",
            " Layer (type)                Output Shape              Param #   \n",
            "=================================================================\n",
            " efficientnetb0 (Functional)  (None, 2, 2, 1280)       4049571   \n",
            "                                                                 \n",
            " batch_normalization_19 (Bat  (None, 2, 2, 1280)       5120      \n",
            " chNormalization)                                                \n",
            "                                                                 \n",
            " activation_12 (Activation)  (None, 2, 2, 1280)        0         \n",
            "                                                                 \n",
            " global_max_pooling2d_9 (Glo  (None, 1280)             0         \n",
            " balMaxPooling2D)                                                \n",
            "                                                                 \n",
            " dropout_11 (Dropout)        (None, 1280)              0         \n",
            "                                                                 \n",
            " dense_18 (Dense)            (None, 20)                25620     \n",
            "                                                                 \n",
            "=================================================================\n",
            "Total params: 4,080,311\n",
            "Trainable params: 28,180\n",
            "Non-trainable params: 4,052,131\n",
            "_________________________________________________________________\n",
            "Epoch 1/50\n",
            "164/164 - 34s - loss: 4.4558 - accuracy: 0.0659 - val_loss: 3.3510 - val_accuracy: 0.1236 - 34s/epoch - 207ms/step\n",
            "Epoch 2/50\n",
            "164/164 - 17s - loss: 4.0275 - accuracy: 0.1110 - val_loss: 3.7935 - val_accuracy: 0.1461 - 17s/epoch - 101ms/step\n",
            "Epoch 3/50\n",
            "164/164 - 18s - loss: 3.8275 - accuracy: 0.1488 - val_loss: 3.8198 - val_accuracy: 0.1461 - 18s/epoch - 111ms/step\n",
            "Epoch 4/50\n",
            "164/164 - 18s - loss: 3.7378 - accuracy: 0.1305 - val_loss: 4.0187 - val_accuracy: 0.1404 - 18s/epoch - 110ms/step\n",
            "Epoch 5/50\n",
            "164/164 - 17s - loss: 3.6494 - accuracy: 0.1512 - val_loss: 4.0112 - val_accuracy: 0.1573 - 17s/epoch - 102ms/step\n",
            "Epoch 6/50\n",
            "164/164 - 16s - loss: 3.7301 - accuracy: 0.1293 - val_loss: 4.1376 - val_accuracy: 0.1461 - 16s/epoch - 101ms/step\n",
            "Epoch 7/50\n",
            "164/164 - 16s - loss: 3.5186 - accuracy: 0.1573 - val_loss: 3.9307 - val_accuracy: 0.1798 - 16s/epoch - 99ms/step\n",
            "Epoch 8/50\n",
            "164/164 - 16s - loss: 3.4266 - accuracy: 0.1634 - val_loss: 3.5698 - val_accuracy: 0.1910 - 16s/epoch - 100ms/step\n",
            "Epoch 9/50\n",
            "164/164 - 16s - loss: 3.3664 - accuracy: 0.1744 - val_loss: 3.6459 - val_accuracy: 0.1910 - 16s/epoch - 101ms/step\n",
            "Epoch 10/50\n",
            "164/164 - 16s - loss: 3.3168 - accuracy: 0.1744 - val_loss: 3.6615 - val_accuracy: 0.1742 - 16s/epoch - 99ms/step\n",
            "Epoch 11/50\n",
            "164/164 - 16s - loss: 3.4354 - accuracy: 0.1451 - val_loss: 3.6284 - val_accuracy: 0.1854 - 16s/epoch - 100ms/step\n",
            "Epoch 12/50\n",
            "164/164 - 17s - loss: 3.2968 - accuracy: 0.1695 - val_loss: 3.7241 - val_accuracy: 0.1798 - 17s/epoch - 101ms/step\n",
            "Epoch 13/50\n",
            "164/164 - 19s - loss: 3.3741 - accuracy: 0.1683 - val_loss: 3.6469 - val_accuracy: 0.2022 - 19s/epoch - 113ms/step\n",
            "Epoch 14/50\n",
            "164/164 - 17s - loss: 3.2683 - accuracy: 0.1744 - val_loss: 3.4778 - val_accuracy: 0.1910 - 17s/epoch - 102ms/step\n",
            "Epoch 15/50\n",
            "164/164 - 17s - loss: 3.2475 - accuracy: 0.1866 - val_loss: 3.4698 - val_accuracy: 0.1910 - 17s/epoch - 101ms/step\n",
            "Epoch 16/50\n",
            "164/164 - 17s - loss: 3.1733 - accuracy: 0.1768 - val_loss: 3.5560 - val_accuracy: 0.1685 - 17s/epoch - 101ms/step\n",
            "Epoch 17/50\n",
            "164/164 - 17s - loss: 3.2630 - accuracy: 0.1646 - val_loss: 3.7874 - val_accuracy: 0.1573 - 17s/epoch - 101ms/step\n",
            "Epoch 18/50\n",
            "164/164 - 17s - loss: 3.1338 - accuracy: 0.1939 - val_loss: 3.6441 - val_accuracy: 0.1798 - 17s/epoch - 101ms/step\n",
            "Epoch 19/50\n",
            "164/164 - 16s - loss: 3.0766 - accuracy: 0.1744 - val_loss: 3.5963 - val_accuracy: 0.1742 - 16s/epoch - 100ms/step\n",
            "Epoch 20/50\n",
            "164/164 - 16s - loss: 3.0439 - accuracy: 0.1841 - val_loss: 3.4602 - val_accuracy: 0.2079 - 16s/epoch - 101ms/step\n",
            "Epoch 21/50\n",
            "164/164 - 16s - loss: 2.9730 - accuracy: 0.1951 - val_loss: 3.3998 - val_accuracy: 0.1854 - 16s/epoch - 100ms/step\n",
            "Epoch 22/50\n",
            "164/164 - 17s - loss: 3.0229 - accuracy: 0.1890 - val_loss: 3.3828 - val_accuracy: 0.2135 - 17s/epoch - 101ms/step\n",
            "Epoch 23/50\n",
            "164/164 - 17s - loss: 3.0429 - accuracy: 0.1939 - val_loss: 3.2964 - val_accuracy: 0.1742 - 17s/epoch - 101ms/step\n",
            "Epoch 24/50\n",
            "164/164 - 17s - loss: 2.9337 - accuracy: 0.1866 - val_loss: 3.1637 - val_accuracy: 0.2360 - 17s/epoch - 101ms/step\n",
            "Epoch 25/50\n",
            "164/164 - 19s - loss: 3.0515 - accuracy: 0.2085 - val_loss: 3.2280 - val_accuracy: 0.1966 - 19s/epoch - 115ms/step\n",
            "Epoch 26/50\n",
            "164/164 - 16s - loss: 3.1008 - accuracy: 0.2049 - val_loss: 3.4174 - val_accuracy: 0.2022 - 16s/epoch - 100ms/step\n",
            "Epoch 27/50\n",
            "164/164 - 16s - loss: 3.0261 - accuracy: 0.1695 - val_loss: 3.4043 - val_accuracy: 0.1742 - 16s/epoch - 99ms/step\n",
            "Epoch 28/50\n",
            "164/164 - 17s - loss: 2.9745 - accuracy: 0.1854 - val_loss: 3.2305 - val_accuracy: 0.1966 - 17s/epoch - 101ms/step\n",
            "Epoch 29/50\n",
            "164/164 - 17s - loss: 2.8425 - accuracy: 0.2146 - val_loss: 3.2102 - val_accuracy: 0.1966 - 17s/epoch - 101ms/step\n",
            "Epoch 30/50\n",
            "164/164 - 17s - loss: 2.9580 - accuracy: 0.2000 - val_loss: 3.1129 - val_accuracy: 0.2135 - 17s/epoch - 102ms/step\n",
            "Epoch 31/50\n",
            "164/164 - 17s - loss: 2.9370 - accuracy: 0.2012 - val_loss: 3.3068 - val_accuracy: 0.1910 - 17s/epoch - 101ms/step\n",
            "Epoch 32/50\n",
            "164/164 - 16s - loss: 2.7993 - accuracy: 0.2134 - val_loss: 3.2165 - val_accuracy: 0.2079 - 16s/epoch - 99ms/step\n",
            "Epoch 33/50\n",
            "164/164 - 16s - loss: 2.8029 - accuracy: 0.2122 - val_loss: 3.0361 - val_accuracy: 0.2022 - 16s/epoch - 100ms/step\n",
            "Epoch 34/50\n",
            "164/164 - 16s - loss: 2.8787 - accuracy: 0.2061 - val_loss: 3.1311 - val_accuracy: 0.2303 - 16s/epoch - 98ms/step\n",
            "Epoch 35/50\n",
            "164/164 - 17s - loss: 2.9170 - accuracy: 0.2073 - val_loss: 3.2253 - val_accuracy: 0.2360 - 17s/epoch - 103ms/step\n",
            "Epoch 36/50\n",
            "164/164 - 16s - loss: 2.8637 - accuracy: 0.1976 - val_loss: 3.1235 - val_accuracy: 0.2247 - 16s/epoch - 100ms/step\n",
            "Epoch 37/50\n",
            "164/164 - 19s - loss: 2.7841 - accuracy: 0.2098 - val_loss: 2.9924 - val_accuracy: 0.2360 - 19s/epoch - 113ms/step\n",
            "Epoch 38/50\n",
            "164/164 - 16s - loss: 2.9100 - accuracy: 0.1976 - val_loss: 3.1306 - val_accuracy: 0.1966 - 16s/epoch - 99ms/step\n",
            "Epoch 39/50\n",
            "164/164 - 16s - loss: 2.7642 - accuracy: 0.2037 - val_loss: 3.0392 - val_accuracy: 0.2022 - 16s/epoch - 100ms/step\n",
            "Epoch 40/50\n",
            "164/164 - 16s - loss: 2.7856 - accuracy: 0.2159 - val_loss: 3.1580 - val_accuracy: 0.2135 - 16s/epoch - 98ms/step\n",
            "Epoch 41/50\n",
            "164/164 - 16s - loss: 2.7175 - accuracy: 0.2159 - val_loss: 3.2991 - val_accuracy: 0.2191 - 16s/epoch - 99ms/step\n",
            "Epoch 42/50\n",
            "164/164 - 16s - loss: 2.7630 - accuracy: 0.2122 - val_loss: 3.2120 - val_accuracy: 0.2135 - 16s/epoch - 99ms/step\n",
            "Epoch 43/50\n",
            "164/164 - 17s - loss: 2.8017 - accuracy: 0.2098 - val_loss: 3.2684 - val_accuracy: 0.2247 - 17s/epoch - 102ms/step\n",
            "Epoch 44/50\n",
            "164/164 - 16s - loss: 2.7482 - accuracy: 0.2037 - val_loss: 3.2168 - val_accuracy: 0.2022 - 16s/epoch - 100ms/step\n",
            "Epoch 45/50\n",
            "164/164 - 16s - loss: 2.7201 - accuracy: 0.2122 - val_loss: 3.2482 - val_accuracy: 0.2079 - 16s/epoch - 100ms/step\n",
            "Epoch 46/50\n",
            "164/164 - 16s - loss: 2.7553 - accuracy: 0.2085 - val_loss: 3.1080 - val_accuracy: 0.2247 - 16s/epoch - 100ms/step\n"
          ]
        }
      ]
    },
    {
      "cell_type": "markdown",
      "source": [
        "Plot: Train error vs. Validation Error"
      ],
      "metadata": {
        "id": "4kTDmz9VQlve"
      }
    },
    {
      "cell_type": "code",
      "source": [
        "import matplotlib.pyplot as plt\n",
        "\n",
        "\n",
        "def plot_hist(hist):\n",
        "    train_acc = hist.history[\"accuracy\"]\n",
        "    train_error = []\n",
        "    for acc in train_acc:\n",
        "      train_error.append(1 - acc)\n",
        "    val_acc = hist.history[\"val_accuracy\"]\n",
        "    val_error = []\n",
        "    for v_acc in val_acc:\n",
        "      val_error.append(1 - v_acc)\n",
        "    plt.plot(train_error, label='Training error')\n",
        "    plt.plot(val_error, label = 'Validation error')\n",
        "    plt.title(\"model error\")\n",
        "    plt.ylabel(\"error\")\n",
        "    plt.xlabel(\"epoch\")\n",
        "    plt.legend([\"train\", \"validation\"], loc=\"upper left\")\n",
        "    plt.show()\n",
        "\n",
        "\n",
        "plot_hist(hist_effnet)"
      ],
      "metadata": {
        "colab": {
          "base_uri": "https://localhost:8080/",
          "height": 295
        },
        "id": "fdXoErCi0oQP",
        "outputId": "e9a47e60-6c0c-4ecd-b316-f8bc7bc730e6"
      },
      "execution_count": 66,
      "outputs": [
        {
          "output_type": "display_data",
          "data": {
            "text/plain": [
              "<Figure size 432x288 with 1 Axes>"
            ],
            "image/png": "[encoded data removed]"
          },
          "metadata": {
            "needs_background": "light"
          }
        }
      ]
    },
    {
      "cell_type": "markdown",
      "source": [
        "Model Metrics: Precision, Recall, F-1 score"
      ],
      "metadata": {
        "id": "d7mX2jdbQtnZ"
      }
    },
    {
      "cell_type": "code",
      "source": [
        "import sklearn\n",
        "from sklearn import metrics\n",
        "from tensorflow import metrics\n",
        "import tensorflow_addons as tfa\n",
        "\n",
        "y_true = test_ds_labels\n",
        "\n",
        "precision = tf.keras.metrics.Precision()\n",
        "recall = tf.keras.metrics.Recall()\n",
        "f1score = tfa.metrics.F1Score(num_classes=len(classes),average='macro',threshold=0.5)\n",
        "pred = model_effnet.predict(test_data)\n",
        "pred_out = np.zeros(pred.shape)\n",
        "pred_out[np.arange(len(pred)),np.argmax(pred,axis=1)] = 1\n",
        "pred_out\n",
        "precision.update_state(pred_out,y_true)\n",
        "recall.update_state(pred_out,y_true)\n",
        "f1score.update_state(pred_out,y_true)\n",
        "print(\"Precision: \",precision.result().numpy())\n",
        "print(\"Recall: \", recall.result().numpy())\n",
        "print(\"F-1 score:\", f1score.result().numpy())"
      ],
      "metadata": {
        "colab": {
          "base_uri": "https://localhost:8080/"
        },
        "id": "orLXVvoD00RG",
        "outputId": "5cffe2da-a55d-4257-d474-66ce845bfbac"
      },
      "execution_count": 67,
      "outputs": [
        {
          "output_type": "stream",
          "name": "stdout",
          "text": [
            "36/36 [==============================] - 5s 72ms/step\n",
            "Precision:  0.050561797\n",
            "Recall:  0.050561797\n",
            "F-1 score: 0.0\n"
          ]
        }
      ]
    },
    {
      "cell_type": "markdown",
      "source": [
        "**Model: VGG16**"
      ],
      "metadata": {
        "id": "CPdSDe0jRMJ-"
      }
    },
    {
      "cell_type": "code",
      "source": [
        "from keras.applications.vgg16 import VGG16, preprocess_input\n",
        "from keras.callbacks import ModelCheckpoint, EarlyStopping\n",
        "from keras.models import Model\n",
        "\n",
        "def model_vgg16():\n",
        "  num_classes = 20\n",
        "  image_size = 224\n",
        "  inputs = layers.Input(shape=(image_size, image_size, 3))\n",
        "  img_augmentation = Sequential(\n",
        "        [\n",
        "            layers.RandomZoom(0.3),\n",
        "            layers.RandomCrop(height= 50, width= 50),\n",
        "            layers.RandomRotation(factor=0.15),\n",
        "            layers.RandomTranslation(height_factor=0.1, width_factor=0.1),\n",
        "            layers.RandomFlip(),\n",
        "            layers.RandomContrast(factor=0.1),\n",
        "        ],\n",
        "        name=\"img_augmentation\",\n",
        "    )\n",
        "  x = img_augmentation(inputs)\n",
        "  #freeze the top layers\n",
        "  model = VGG16(include_top=False, input_tensor=x, weights= 'imagenet')\n",
        "  model.trainable = False\n",
        "\n",
        "  x = model.output\n",
        "  x = Flatten(name=\"flatten\")(x)\n",
        "  x = layers.BatchNormalization()(x)\n",
        "  #x = layers.BatchNormalization()(layer)\n",
        "  #RELU activation function\n",
        "  x = layers.Dense(512, activation=\"relu\")(x)\n",
        "  #20% dropout rate\n",
        "  top_dropout_rate = 0.2\n",
        "  x = layers.Dropout(top_dropout_rate, name=\"top_dropout\")(x)\n",
        "  #Softmax layer\n",
        "  output_layer = layers.Dense(num_classes, activation='softmax', name=\"pred\")(x)\n",
        "\n",
        "  model_vgg = Model(inputs,output_layer)\n",
        "\n",
        "  #optimizer = tf.keras.optimizers.Adam(learning_rate=0.001)\n",
        "  #model_effnet.compile(optimizer= optimizer, loss='categorical_crossentropy', metrics=['accuracy'])\n",
        "    \n",
        "  return model_vgg"
      ],
      "metadata": {
        "id": "emWmvlDLwTRY"
      },
      "execution_count": 68,
      "outputs": []
    },
    {
      "cell_type": "code",
      "source": [
        "model_vgg = model_vgg16()\n",
        "optimizer = tf.keras.optimizers.Adam(learning_rate=0.001)\n",
        "model_vgg.compile(optimizer= optimizer, loss='categorical_crossentropy', metrics=['accuracy'])\n",
        "hist_vgg = model_vgg.fit(train_data, epochs=50, callbacks= tf.keras.callbacks.EarlyStopping(monitor='loss', patience=5, mode = 'auto', restore_best_weights= True),validation_data=val_data, verbose=2)"
      ],
      "metadata": {
        "colab": {
          "base_uri": "https://localhost:8080/"
        },
        "id": "4twuvwbayQpT",
        "outputId": "e45871ef-2f84-4c7f-c380-f58c0c1025fc"
      },
      "execution_count": 69,
      "outputs": [
        {
          "output_type": "stream",
          "name": "stdout",
          "text": [
            "Epoch 1/50\n",
            "164/164 - 46s - loss: 3.1027 - accuracy: 0.1037 - val_loss: 4.0250 - val_accuracy: 0.1180 - 46s/epoch - 278ms/step\n",
            "Epoch 2/50\n",
            "164/164 - 38s - loss: 2.9513 - accuracy: 0.1317 - val_loss: 3.7287 - val_accuracy: 0.1461 - 38s/epoch - 234ms/step\n",
            "Epoch 3/50\n",
            "164/164 - 40s - loss: 2.9326 - accuracy: 0.1244 - val_loss: 3.5572 - val_accuracy: 0.1629 - 40s/epoch - 246ms/step\n",
            "Epoch 4/50\n",
            "164/164 - 38s - loss: 2.8446 - accuracy: 0.1488 - val_loss: 3.5933 - val_accuracy: 0.1910 - 38s/epoch - 232ms/step\n",
            "Epoch 5/50\n",
            "164/164 - 38s - loss: 2.7726 - accuracy: 0.1732 - val_loss: 3.8973 - val_accuracy: 0.1685 - 38s/epoch - 234ms/step\n",
            "Epoch 6/50\n",
            "164/164 - 38s - loss: 2.8271 - accuracy: 0.1537 - val_loss: 3.8743 - val_accuracy: 0.2022 - 38s/epoch - 235ms/step\n",
            "Epoch 7/50\n",
            "164/164 - 38s - loss: 2.7763 - accuracy: 0.1695 - val_loss: 3.9203 - val_accuracy: 0.1573 - 38s/epoch - 234ms/step\n",
            "Epoch 8/50\n",
            "164/164 - 38s - loss: 2.7017 - accuracy: 0.1939 - val_loss: 4.0413 - val_accuracy: 0.1573 - 38s/epoch - 234ms/step\n",
            "Epoch 9/50\n",
            "164/164 - 41s - loss: 2.7051 - accuracy: 0.1793 - val_loss: 4.0305 - val_accuracy: 0.1517 - 41s/epoch - 253ms/step\n",
            "Epoch 10/50\n",
            "164/164 - 39s - loss: 2.6835 - accuracy: 0.1841 - val_loss: 3.8322 - val_accuracy: 0.1517 - 39s/epoch - 236ms/step\n",
            "Epoch 11/50\n",
            "164/164 - 38s - loss: 2.6943 - accuracy: 0.1915 - val_loss: 4.1523 - val_accuracy: 0.1292 - 38s/epoch - 232ms/step\n",
            "Epoch 12/50\n",
            "164/164 - 38s - loss: 2.6799 - accuracy: 0.1793 - val_loss: 3.9262 - val_accuracy: 0.1517 - 38s/epoch - 233ms/step\n",
            "Epoch 13/50\n",
            "164/164 - 38s - loss: 2.6429 - accuracy: 0.1866 - val_loss: 3.6622 - val_accuracy: 0.1292 - 38s/epoch - 232ms/step\n",
            "Epoch 14/50\n",
            "164/164 - 38s - loss: 2.6042 - accuracy: 0.2171 - val_loss: 4.0000 - val_accuracy: 0.1517 - 38s/epoch - 233ms/step\n",
            "Epoch 15/50\n",
            "164/164 - 40s - loss: 2.6255 - accuracy: 0.2012 - val_loss: 3.8989 - val_accuracy: 0.1854 - 40s/epoch - 243ms/step\n",
            "Epoch 16/50\n",
            "164/164 - 38s - loss: 2.6624 - accuracy: 0.1866 - val_loss: 4.1630 - val_accuracy: 0.1910 - 38s/epoch - 230ms/step\n",
            "Epoch 17/50\n",
            "164/164 - 38s - loss: 2.6134 - accuracy: 0.1927 - val_loss: 4.1722 - val_accuracy: 0.2079 - 38s/epoch - 231ms/step\n",
            "Epoch 18/50\n",
            "164/164 - 38s - loss: 2.6059 - accuracy: 0.1939 - val_loss: 4.0006 - val_accuracy: 0.2022 - 38s/epoch - 233ms/step\n",
            "Epoch 19/50\n",
            "164/164 - 38s - loss: 2.6119 - accuracy: 0.1878 - val_loss: 3.6777 - val_accuracy: 0.2191 - 38s/epoch - 231ms/step\n"
          ]
        }
      ]
    },
    {
      "cell_type": "markdown",
      "source": [
        "Plot: Train error vs. Validation error"
      ],
      "metadata": {
        "id": "61gwYt4ARQ9I"
      }
    },
    {
      "cell_type": "code",
      "source": [
        "plot_hist(hist_vgg)"
      ],
      "metadata": {
        "colab": {
          "base_uri": "https://localhost:8080/",
          "height": 295
        },
        "id": "fsnt59fmCPXs",
        "outputId": "db839d0c-3bb8-4bf8-c5d1-5b3e035a6c9e"
      },
      "execution_count": 70,
      "outputs": [
        {
          "output_type": "display_data",
          "data": {
            "text/plain": [
              "<Figure size 432x288 with 1 Axes>"
            ],
            "image/png": "[encoded data removed]"
          },
          "metadata": {
            "needs_background": "light"
          }
        }
      ]
    },
    {
      "cell_type": "markdown",
      "source": [
        "Model Metrics: Precision, Recall, F-1 Score"
      ],
      "metadata": {
        "id": "BMfHCnIKRVpY"
      }
    },
    {
      "cell_type": "code",
      "source": [
        "precision = tf.keras.metrics.Precision()\n",
        "recall = tf.keras.metrics.Recall()\n",
        "f1score = tfa.metrics.F1Score(num_classes=len(classes),average='macro',threshold=0.5)\n",
        "pred = model_vgg.predict(test_data)\n",
        "pred_out = np.zeros(pred.shape)\n",
        "pred_out[np.arange(len(pred)),np.argmax(pred,axis=1)] = 1\n",
        "pred_out\n",
        "precision.update_state(pred_out,y_true)\n",
        "recall.update_state(pred_out,y_true)\n",
        "f1score.update_state(pred_out,y_true)\n",
        "print(\"Precision: \",precision.result().numpy()) \n",
        "print(\"Recall \",recall.result().numpy())\n",
        "print(\"F-1 Score:\", f1score.result().numpy())"
      ],
      "metadata": {
        "colab": {
          "base_uri": "https://localhost:8080/"
        },
        "id": "8mXOTB1DKv5g",
        "outputId": "f155ad28-94c2-40d1-8be9-651c24f61c5c"
      },
      "execution_count": 71,
      "outputs": [
        {
          "output_type": "stream",
          "name": "stdout",
          "text": [
            "36/36 [==============================] - 7s 174ms/step\n",
            "Precision:  0.050561797\n",
            "Recall  0.050561797\n",
            "F-1 Score: 0.0\n"
          ]
        }
      ]
    },
    {
      "cell_type": "markdown",
      "source": [
        "Metrics: F1-score, precision, recall for each epoch"
      ],
      "metadata": {
        "id": "RjloEdKHpgsx"
      }
    },
    {
      "cell_type": "code",
      "source": [
        "#https://www.kaggle.com/code/yasserhessein/alzheimer-s-classification-efficientnetb0\n",
        "\n",
        "import keras.backend as K\n",
        "\n",
        "def f1_score(y_true, y_pred): #taken from old keras source code\n",
        "    true_positives = K.sum(K.round(K.clip(y_true * y_pred, 0, 1)))\n",
        "    possible_positives = K.sum(K.round(K.clip(y_true, 0, 1)))\n",
        "    predicted_positives = K.sum(K.round(K.clip(y_pred, 0, 1)))\n",
        "    precision = true_positives / (predicted_positives + K.epsilon())\n",
        "    recall = true_positives / (possible_positives + K.epsilon())\n",
        "    f1_val = 2*(precision*recall)/(precision+recall+K.epsilon())\n",
        "    return f1_val\n",
        "\n",
        "METRICS = [\n",
        "      tf.keras.metrics.Precision(name='precision'),\n",
        "      tf.keras.metrics.Recall(name='recall'),  \n",
        "        f1_score,\n",
        "]"
      ],
      "metadata": {
        "id": "leYBPs6ljTzb"
      },
      "execution_count": 59,
      "outputs": []
    },
    {
      "cell_type": "code",
      "source": [
        "model_en_metrics = model_efficientnetb0()\n",
        "optimizer = tf.keras.optimizers.Adam(learning_rate=0.001)\n",
        "model_en_metrics.compile(optimizer=optimizer, loss=\"categorical_crossentropy\", metrics= METRICS)\n",
        "hist_en_metrics = model_en_metrics.fit(train_data, epochs=50, validation_data=val_data, verbose=2)"
      ],
      "metadata": {
        "colab": {
          "base_uri": "https://localhost:8080/"
        },
        "id": "13slQ1MzjdSK",
        "outputId": "6912a149-9277-4db3-9be5-58f66ebceddc"
      },
      "execution_count": 60,
      "outputs": [
        {
          "output_type": "stream",
          "name": "stdout",
          "text": [
            "Model: \"sequential_15\"\n",
            "_________________________________________________________________\n",
            " Layer (type)                Output Shape              Param #   \n",
            "=================================================================\n",
            " efficientnetb0 (Functional)  (None, 2, 2, 1280)       4049571   \n",
            "                                                                 \n",
            " batch_normalization_16 (Bat  (None, 2, 2, 1280)       5120      \n",
            " chNormalization)                                                \n",
            "                                                                 \n",
            " activation_10 (Activation)  (None, 2, 2, 1280)        0         \n",
            "                                                                 \n",
            " global_max_pooling2d_7 (Glo  (None, 1280)             0         \n",
            " balMaxPooling2D)                                                \n",
            "                                                                 \n",
            " dropout_9 (Dropout)         (None, 1280)              0         \n",
            "                                                                 \n",
            " dense_15 (Dense)            (None, 20)                25620     \n",
            "                                                                 \n",
            "=================================================================\n",
            "Total params: 4,080,311\n",
            "Trainable params: 28,180\n",
            "Non-trainable params: 4,052,131\n",
            "_________________________________________________________________\n",
            "Epoch 1/50\n",
            "164/164 - 29s - loss: 4.4495 - precision: 0.0860 - recall: 0.0293 - f1_score: 0.0408 - val_loss: 3.3408 - val_precision: 0.1290 - val_recall: 0.0225 - val_f1_score: 0.0334 - 29s/epoch - 177ms/step\n",
            "Epoch 2/50\n",
            "164/164 - 15s - loss: 3.9545 - precision: 0.1285 - recall: 0.0390 - f1_score: 0.0532 - val_loss: 3.5499 - val_precision: 0.1067 - val_recall: 0.0449 - val_f1_score: 0.0601 - 15s/epoch - 90ms/step\n",
            "Epoch 3/50\n",
            "164/164 - 17s - loss: 3.8427 - precision: 0.1442 - recall: 0.0549 - f1_score: 0.0735 - val_loss: 3.6451 - val_precision: 0.1948 - val_recall: 0.0843 - val_f1_score: 0.1153 - 17s/epoch - 106ms/step\n",
            "Epoch 4/50\n",
            "164/164 - 22s - loss: 3.7441 - precision: 0.1769 - recall: 0.0634 - f1_score: 0.0860 - val_loss: 3.5409 - val_precision: 0.1807 - val_recall: 0.0843 - val_f1_score: 0.1046 - 22s/epoch - 132ms/step\n",
            "Epoch 5/50\n",
            "164/164 - 17s - loss: 3.7167 - precision: 0.1912 - recall: 0.0744 - f1_score: 0.1004 - val_loss: 3.5962 - val_precision: 0.1978 - val_recall: 0.1011 - val_f1_score: 0.1287 - 17s/epoch - 106ms/step\n",
            "Epoch 6/50\n",
            "164/164 - 16s - loss: 3.4330 - precision: 0.2400 - recall: 0.0878 - f1_score: 0.1212 - val_loss: 3.6151 - val_precision: 0.1705 - val_recall: 0.0843 - val_f1_score: 0.1100 - 16s/epoch - 97ms/step\n",
            "Epoch 7/50\n",
            "164/164 - 15s - loss: 3.4333 - precision: 0.2222 - recall: 0.0829 - f1_score: 0.1117 - val_loss: 3.5647 - val_precision: 0.1647 - val_recall: 0.0787 - val_f1_score: 0.1069 - 15s/epoch - 93ms/step\n",
            "Epoch 8/50\n",
            "164/164 - 18s - loss: 3.4069 - precision: 0.2171 - recall: 0.0744 - f1_score: 0.1022 - val_loss: 3.5698 - val_precision: 0.2268 - val_recall: 0.1236 - val_f1_score: 0.1517 - 18s/epoch - 112ms/step\n",
            "Epoch 9/50\n",
            "164/164 - 20s - loss: 3.4434 - precision: 0.2244 - recall: 0.0854 - f1_score: 0.1160 - val_loss: 3.5000 - val_precision: 0.2125 - val_recall: 0.0955 - val_f1_score: 0.1283 - 20s/epoch - 124ms/step\n",
            "Epoch 10/50\n",
            "164/164 - 18s - loss: 3.3153 - precision: 0.2456 - recall: 0.0854 - f1_score: 0.1183 - val_loss: 3.4498 - val_precision: 0.2024 - val_recall: 0.0955 - val_f1_score: 0.1235 - 18s/epoch - 108ms/step\n",
            "Epoch 11/50\n",
            "164/164 - 17s - loss: 3.2933 - precision: 0.2383 - recall: 0.0866 - f1_score: 0.1199 - val_loss: 3.5949 - val_precision: 0.1630 - val_recall: 0.0843 - val_f1_score: 0.1067 - 17s/epoch - 103ms/step\n",
            "Epoch 12/50\n",
            "164/164 - 15s - loss: 3.4462 - precision: 0.2415 - recall: 0.0866 - f1_score: 0.1200 - val_loss: 3.2567 - val_precision: 0.2529 - val_recall: 0.1236 - val_f1_score: 0.1624 - 15s/epoch - 92ms/step\n",
            "Epoch 13/50\n",
            "164/164 - 17s - loss: 3.2979 - precision: 0.2669 - recall: 0.0963 - f1_score: 0.1328 - val_loss: 3.3342 - val_precision: 0.2614 - val_recall: 0.1292 - val_f1_score: 0.1600 - 17s/epoch - 106ms/step\n",
            "Epoch 14/50\n",
            "164/164 - 15s - loss: 3.1819 - precision: 0.2734 - recall: 0.0890 - f1_score: 0.1235 - val_loss: 3.4309 - val_precision: 0.2778 - val_recall: 0.1404 - val_f1_score: 0.1755 - 15s/epoch - 94ms/step\n",
            "Epoch 15/50\n",
            "164/164 - 17s - loss: 3.1046 - precision: 0.2720 - recall: 0.0866 - f1_score: 0.1191 - val_loss: 3.6386 - val_precision: 0.2000 - val_recall: 0.1011 - val_f1_score: 0.1323 - 17s/epoch - 101ms/step\n",
            "Epoch 16/50\n",
            "164/164 - 25s - loss: 3.2912 - precision: 0.2400 - recall: 0.0805 - f1_score: 0.1092 - val_loss: 3.5079 - val_precision: 0.2644 - val_recall: 0.1292 - val_f1_score: 0.1660 - 25s/epoch - 153ms/step\n",
            "Epoch 17/50\n",
            "164/164 - 23s - loss: 3.2892 - precision: 0.2159 - recall: 0.0695 - f1_score: 0.0999 - val_loss: 3.5330 - val_precision: 0.2283 - val_recall: 0.1180 - val_f1_score: 0.1442 - 23s/epoch - 141ms/step\n",
            "Epoch 18/50\n",
            "164/164 - 23s - loss: 3.1665 - precision: 0.2814 - recall: 0.0902 - f1_score: 0.1258 - val_loss: 3.4707 - val_precision: 0.2778 - val_recall: 0.1404 - val_f1_score: 0.1798 - 23s/epoch - 140ms/step\n",
            "Epoch 19/50\n",
            "164/164 - 15s - loss: 3.1144 - precision: 0.2471 - recall: 0.0780 - f1_score: 0.1077 - val_loss: 3.5517 - val_precision: 0.2340 - val_recall: 0.1236 - val_f1_score: 0.1420 - 15s/epoch - 90ms/step\n",
            "Epoch 20/50\n",
            "164/164 - 18s - loss: 3.0782 - precision: 0.2869 - recall: 0.0829 - f1_score: 0.1149 - val_loss: 3.1752 - val_precision: 0.3214 - val_recall: 0.1517 - val_f1_score: 0.1907 - 18s/epoch - 113ms/step\n",
            "Epoch 21/50\n",
            "164/164 - 16s - loss: 3.1100 - precision: 0.2683 - recall: 0.0805 - f1_score: 0.1143 - val_loss: 3.3754 - val_precision: 0.2198 - val_recall: 0.1124 - val_f1_score: 0.1445 - 16s/epoch - 95ms/step\n",
            "Epoch 22/50\n",
            "164/164 - 18s - loss: 2.9751 - precision: 0.2510 - recall: 0.0744 - f1_score: 0.1038 - val_loss: 3.3363 - val_precision: 0.2651 - val_recall: 0.1236 - val_f1_score: 0.1692 - 18s/epoch - 108ms/step\n",
            "Epoch 23/50\n",
            "164/164 - 18s - loss: 3.0113 - precision: 0.2869 - recall: 0.0854 - f1_score: 0.1205 - val_loss: 3.3258 - val_precision: 0.3210 - val_recall: 0.1461 - val_f1_score: 0.1861 - 18s/epoch - 108ms/step\n",
            "Epoch 24/50\n",
            "164/164 - 16s - loss: 3.0845 - precision: 0.2622 - recall: 0.0720 - f1_score: 0.1052 - val_loss: 3.2936 - val_precision: 0.2785 - val_recall: 0.1236 - val_f1_score: 0.1727 - 16s/epoch - 99ms/step\n",
            "Epoch 25/50\n",
            "164/164 - 18s - loss: 2.9534 - precision: 0.2720 - recall: 0.0793 - f1_score: 0.1137 - val_loss: 3.2085 - val_precision: 0.3467 - val_recall: 0.1461 - val_f1_score: 0.1888 - 18s/epoch - 110ms/step\n",
            "Epoch 26/50\n",
            "164/164 - 17s - loss: 2.9204 - precision: 0.2922 - recall: 0.0866 - f1_score: 0.1225 - val_loss: 3.2123 - val_precision: 0.3158 - val_recall: 0.1348 - val_f1_score: 0.1825 - 17s/epoch - 103ms/step\n",
            "Epoch 27/50\n",
            "164/164 - 17s - loss: 2.9062 - precision: 0.4100 - recall: 0.1195 - f1_score: 0.1705 - val_loss: 3.3291 - val_precision: 0.3000 - val_recall: 0.1180 - val_f1_score: 0.1546 - 17s/epoch - 103ms/step\n",
            "Epoch 28/50\n",
            "164/164 - 25s - loss: 2.9799 - precision: 0.2927 - recall: 0.0732 - f1_score: 0.1068 - val_loss: 3.2754 - val_precision: 0.3043 - val_recall: 0.1180 - val_f1_score: 0.1607 - 25s/epoch - 153ms/step\n",
            "Epoch 29/50\n",
            "164/164 - 18s - loss: 2.8469 - precision: 0.3598 - recall: 0.1049 - f1_score: 0.1495 - val_loss: 3.2129 - val_precision: 0.2597 - val_recall: 0.1124 - val_f1_score: 0.1456 - 18s/epoch - 113ms/step\n",
            "Epoch 30/50\n",
            "164/164 - 22s - loss: 2.9000 - precision: 0.2876 - recall: 0.0817 - f1_score: 0.1182 - val_loss: 3.3034 - val_precision: 0.2716 - val_recall: 0.1236 - val_f1_score: 0.1564 - 22s/epoch - 132ms/step\n",
            "Epoch 31/50\n",
            "164/164 - 17s - loss: 3.0199 - precision: 0.3333 - recall: 0.0951 - f1_score: 0.1339 - val_loss: 3.2185 - val_precision: 0.2297 - val_recall: 0.0955 - val_f1_score: 0.1280 - 17s/epoch - 102ms/step\n",
            "Epoch 32/50\n",
            "164/164 - 21s - loss: 2.8522 - precision: 0.3380 - recall: 0.0890 - f1_score: 0.1311 - val_loss: 3.2590 - val_precision: 0.2683 - val_recall: 0.1236 - val_f1_score: 0.1605 - 21s/epoch - 126ms/step\n",
            "Epoch 33/50\n",
            "164/164 - 18s - loss: 2.8337 - precision: 0.3500 - recall: 0.0939 - f1_score: 0.1333 - val_loss: 3.2459 - val_precision: 0.2533 - val_recall: 0.1067 - val_f1_score: 0.1389 - 18s/epoch - 110ms/step\n",
            "Epoch 34/50\n",
            "164/164 - 15s - loss: 2.8022 - precision: 0.3448 - recall: 0.0854 - f1_score: 0.1205 - val_loss: 3.2050 - val_precision: 0.2632 - val_recall: 0.1124 - val_f1_score: 0.1392 - 15s/epoch - 91ms/step\n",
            "Epoch 35/50\n",
            "164/164 - 15s - loss: 2.8410 - precision: 0.3128 - recall: 0.0866 - f1_score: 0.1251 - val_loss: 3.2636 - val_precision: 0.2692 - val_recall: 0.1180 - val_f1_score: 0.1609 - 15s/epoch - 90ms/step\n",
            "Epoch 36/50\n",
            "164/164 - 15s - loss: 2.8636 - precision: 0.3168 - recall: 0.0780 - f1_score: 0.1153 - val_loss: 3.3819 - val_precision: 0.3023 - val_recall: 0.1461 - val_f1_score: 0.1802 - 15s/epoch - 89ms/step\n",
            "Epoch 37/50\n",
            "164/164 - 14s - loss: 2.8871 - precision: 0.3191 - recall: 0.0732 - f1_score: 0.1062 - val_loss: 3.2115 - val_precision: 0.2692 - val_recall: 0.1180 - val_f1_score: 0.1538 - 14s/epoch - 88ms/step\n",
            "Epoch 38/50\n",
            "164/164 - 15s - loss: 2.7351 - precision: 0.3564 - recall: 0.0878 - f1_score: 0.1314 - val_loss: 3.4794 - val_precision: 0.2706 - val_recall: 0.1292 - val_f1_score: 0.1638 - 15s/epoch - 90ms/step\n",
            "Epoch 39/50\n",
            "164/164 - 15s - loss: 2.7470 - precision: 0.3218 - recall: 0.0793 - f1_score: 0.1184 - val_loss: 3.4037 - val_precision: 0.3176 - val_recall: 0.1517 - val_f1_score: 0.1926 - 15s/epoch - 89ms/step\n",
            "Epoch 40/50\n",
            "164/164 - 15s - loss: 2.7899 - precision: 0.3508 - recall: 0.0817 - f1_score: 0.1200 - val_loss: 3.1696 - val_precision: 0.3875 - val_recall: 0.1742 - val_f1_score: 0.2260 - 15s/epoch - 89ms/step\n",
            "Epoch 41/50\n",
            "164/164 - 15s - loss: 2.8146 - precision: 0.3505 - recall: 0.0829 - f1_score: 0.1225 - val_loss: 3.1825 - val_precision: 0.3919 - val_recall: 0.1629 - val_f1_score: 0.2209 - 15s/epoch - 90ms/step\n",
            "Epoch 42/50\n",
            "164/164 - 15s - loss: 2.7230 - precision: 0.3034 - recall: 0.0659 - f1_score: 0.0967 - val_loss: 3.2336 - val_precision: 0.3684 - val_recall: 0.1573 - val_f1_score: 0.2121 - 15s/epoch - 91ms/step\n",
            "Epoch 43/50\n",
            "164/164 - 15s - loss: 2.8196 - precision: 0.3452 - recall: 0.0829 - f1_score: 0.1209 - val_loss: 3.2414 - val_precision: 0.3836 - val_recall: 0.1573 - val_f1_score: 0.2100 - 15s/epoch - 89ms/step\n",
            "Epoch 44/50\n",
            "164/164 - 15s - loss: 2.7036 - precision: 0.3401 - recall: 0.0817 - f1_score: 0.1188 - val_loss: 3.3621 - val_precision: 0.3636 - val_recall: 0.1573 - val_f1_score: 0.2030 - 15s/epoch - 90ms/step\n",
            "Epoch 45/50\n",
            "164/164 - 15s - loss: 2.7430 - precision: 0.3795 - recall: 0.0902 - f1_score: 0.1323 - val_loss: 3.3036 - val_precision: 0.3553 - val_recall: 0.1517 - val_f1_score: 0.2037 - 15s/epoch - 89ms/step\n",
            "Epoch 46/50\n",
            "164/164 - 15s - loss: 2.7407 - precision: 0.4078 - recall: 0.0890 - f1_score: 0.1333 - val_loss: 3.1325 - val_precision: 0.3210 - val_recall: 0.1461 - val_f1_score: 0.1824 - 15s/epoch - 89ms/step\n",
            "Epoch 47/50\n",
            "164/164 - 15s - loss: 2.6926 - precision: 0.4847 - recall: 0.0963 - f1_score: 0.1438 - val_loss: 3.1268 - val_precision: 0.3030 - val_recall: 0.1124 - val_f1_score: 0.1510 - 15s/epoch - 89ms/step\n",
            "Epoch 48/50\n",
            "164/164 - 15s - loss: 2.7022 - precision: 0.3804 - recall: 0.0756 - f1_score: 0.1132 - val_loss: 3.2129 - val_precision: 0.4138 - val_recall: 0.1348 - val_f1_score: 0.1821 - 15s/epoch - 89ms/step\n",
            "Epoch 49/50\n",
            "164/164 - 15s - loss: 2.7184 - precision: 0.3442 - recall: 0.0646 - f1_score: 0.1002 - val_loss: 3.2364 - val_precision: 0.3333 - val_recall: 0.1404 - val_f1_score: 0.1857 - 15s/epoch - 91ms/step\n",
            "Epoch 50/50\n",
            "164/164 - 15s - loss: 2.6835 - precision: 0.3910 - recall: 0.0744 - f1_score: 0.1130 - val_loss: 3.1895 - val_precision: 0.3699 - val_recall: 0.1517 - val_f1_score: 0.1971 - 15s/epoch - 92ms/step\n"
          ]
        }
      ]
    },
    {
      "cell_type": "markdown",
      "source": [
        "VGG16 Model metrics for every epoch"
      ],
      "metadata": {
        "id": "c01ZLodepnq_"
      }
    },
    {
      "cell_type": "code",
      "source": [
        "model_vgg_metrics = model_vgg16()\n",
        "optimizer = tf.keras.optimizers.Adam(learning_rate=0.001)\n",
        "model_vgg_metrics.compile(optimizer= optimizer, loss='categorical_crossentropy', metrics=METRICS)\n",
        "hist_vgg_metrics = model_vgg_metrics.fit(train_data, epochs=50,validation_data=val_data, verbose=2)"
      ],
      "metadata": {
        "id": "m6KczizbZyXS",
        "colab": {
          "base_uri": "https://localhost:8080/"
        },
        "outputId": "d11e3700-0e23-446e-e9fd-b784aefe3e45"
      },
      "execution_count": 61,
      "outputs": [
        {
          "output_type": "stream",
          "name": "stdout",
          "text": [
            "Epoch 1/50\n",
            "164/164 - 46s - loss: 3.0836 - precision: 0.3118 - recall: 0.0291 - f1_score: 0.0041 - val_loss: 4.2599 - val_precision: 0.1364 - val_recall: 0.0674 - val_f1_score: 0.0873 - 46s/epoch - 282ms/step\n",
            "Epoch 2/50\n",
            "164/164 - 36s - loss: 2.9341 - precision: 0.3333 - recall: 0.0268 - f1_score: 0.0422 - val_loss: 3.9318 - val_precision: 0.2198 - val_recall: 0.1124 - val_f1_score: 0.1422 - 36s/epoch - 218ms/step\n",
            "Epoch 3/50\n",
            "164/164 - 36s - loss: 2.8874 - precision: 0.3538 - recall: 0.0280 - f1_score: 0.0462 - val_loss: 3.8871 - val_precision: 0.1954 - val_recall: 0.0955 - val_f1_score: 0.1158 - 36s/epoch - 218ms/step\n",
            "Epoch 4/50\n",
            "164/164 - 36s - loss: 2.9585 - precision: 0.2267 - recall: 0.0207 - f1_score: 0.0319 - val_loss: 3.8255 - val_precision: 0.2405 - val_recall: 0.1067 - val_f1_score: 0.1294 - 36s/epoch - 217ms/step\n",
            "Epoch 5/50\n",
            "164/164 - 36s - loss: 2.8737 - precision: 0.2535 - recall: 0.0220 - f1_score: 0.0354 - val_loss: 4.1980 - val_precision: 0.2658 - val_recall: 0.1180 - val_f1_score: 0.1587 - 36s/epoch - 218ms/step\n",
            "Epoch 6/50\n",
            "164/164 - 36s - loss: 2.8120 - precision: 0.3793 - recall: 0.0268 - f1_score: 0.0427 - val_loss: 4.0390 - val_precision: 0.2360 - val_recall: 0.1180 - val_f1_score: 0.1512 - 36s/epoch - 217ms/step\n",
            "Epoch 7/50\n",
            "164/164 - 38s - loss: 2.8199 - precision: 0.2857 - recall: 0.0171 - f1_score: 0.0276 - val_loss: 3.9228 - val_precision: 0.2683 - val_recall: 0.1236 - val_f1_score: 0.1591 - 38s/epoch - 232ms/step\n",
            "Epoch 8/50\n",
            "164/164 - 37s - loss: 2.7529 - precision: 0.4444 - recall: 0.0195 - f1_score: 0.0325 - val_loss: 4.1284 - val_precision: 0.2619 - val_recall: 0.1236 - val_f1_score: 0.1616 - 37s/epoch - 227ms/step\n",
            "Epoch 9/50\n",
            "164/164 - 37s - loss: 2.7223 - precision: 0.2727 - recall: 0.0110 - f1_score: 0.0183 - val_loss: 4.0984 - val_precision: 0.2222 - val_recall: 0.1011 - val_f1_score: 0.1305 - 37s/epoch - 227ms/step\n",
            "Epoch 10/50\n",
            "164/164 - 38s - loss: 2.6683 - precision: 0.4634 - recall: 0.0232 - f1_score: 0.0383 - val_loss: 4.2496 - val_precision: 0.2353 - val_recall: 0.1124 - val_f1_score: 0.1544 - 38s/epoch - 234ms/step\n",
            "Epoch 11/50\n",
            "164/164 - 36s - loss: 2.6958 - precision: 0.4750 - recall: 0.0232 - f1_score: 0.0375 - val_loss: 3.8955 - val_precision: 0.2410 - val_recall: 0.1124 - val_f1_score: 0.1432 - 36s/epoch - 219ms/step\n",
            "Epoch 12/50\n",
            "164/164 - 36s - loss: 2.6723 - precision: 0.4062 - recall: 0.0159 - f1_score: 0.0256 - val_loss: 3.9400 - val_precision: 0.2436 - val_recall: 0.1067 - val_f1_score: 0.1355 - 36s/epoch - 219ms/step\n",
            "Epoch 13/50\n",
            "164/164 - 38s - loss: 2.6884 - precision: 0.5122 - recall: 0.0256 - f1_score: 0.0412 - val_loss: 4.0092 - val_precision: 0.2135 - val_recall: 0.1067 - val_f1_score: 0.1382 - 38s/epoch - 231ms/step\n",
            "Epoch 14/50\n",
            "164/164 - 36s - loss: 2.6585 - precision: 0.4412 - recall: 0.0183 - f1_score: 0.0299 - val_loss: 4.4476 - val_precision: 0.1758 - val_recall: 0.0899 - val_f1_score: 0.1092 - 36s/epoch - 218ms/step\n",
            "Epoch 15/50\n",
            "164/164 - 36s - loss: 2.6597 - precision: 0.4286 - recall: 0.0220 - f1_score: 0.0360 - val_loss: 4.2311 - val_precision: 0.2258 - val_recall: 0.1180 - val_f1_score: 0.1530 - 36s/epoch - 217ms/step\n",
            "Epoch 16/50\n",
            "164/164 - 36s - loss: 2.6438 - precision: 0.5000 - recall: 0.0317 - f1_score: 0.0514 - val_loss: 4.0839 - val_precision: 0.2556 - val_recall: 0.1292 - val_f1_score: 0.1621 - 36s/epoch - 219ms/step\n",
            "Epoch 17/50\n",
            "164/164 - 36s - loss: 2.6290 - precision: 0.4706 - recall: 0.0293 - f1_score: 0.0472 - val_loss: 4.1051 - val_precision: 0.2128 - val_recall: 0.1124 - val_f1_score: 0.1353 - 36s/epoch - 220ms/step\n",
            "Epoch 18/50\n",
            "164/164 - 38s - loss: 2.6264 - precision: 0.3235 - recall: 0.0134 - f1_score: 0.0215 - val_loss: 4.1891 - val_precision: 0.1932 - val_recall: 0.0955 - val_f1_score: 0.1235 - 38s/epoch - 231ms/step\n",
            "Epoch 19/50\n",
            "164/164 - 37s - loss: 2.6259 - precision: 0.3696 - recall: 0.0207 - f1_score: 0.0335 - val_loss: 4.2215 - val_precision: 0.1848 - val_recall: 0.0955 - val_f1_score: 0.1199 - 37s/epoch - 223ms/step\n",
            "Epoch 20/50\n",
            "164/164 - 36s - loss: 2.5663 - precision: 0.4615 - recall: 0.0220 - f1_score: 0.0357 - val_loss: 4.5761 - val_precision: 0.2000 - val_recall: 0.1124 - val_f1_score: 0.1451 - 36s/epoch - 217ms/step\n",
            "Epoch 21/50\n",
            "164/164 - 36s - loss: 2.6302 - precision: 0.4565 - recall: 0.0256 - f1_score: 0.0409 - val_loss: 4.4453 - val_precision: 0.1863 - val_recall: 0.1067 - val_f1_score: 0.1383 - 36s/epoch - 218ms/step\n",
            "Epoch 22/50\n",
            "164/164 - 36s - loss: 2.5694 - precision: 0.4043 - recall: 0.0232 - f1_score: 0.0377 - val_loss: 4.3104 - val_precision: 0.2136 - val_recall: 0.1236 - val_f1_score: 0.1418 - 36s/epoch - 217ms/step\n",
            "Epoch 23/50\n",
            "164/164 - 36s - loss: 2.5897 - precision: 0.4375 - recall: 0.0256 - f1_score: 0.0415 - val_loss: 4.1457 - val_precision: 0.2442 - val_recall: 0.1180 - val_f1_score: 0.1494 - 36s/epoch - 217ms/step\n",
            "Epoch 24/50\n",
            "164/164 - 38s - loss: 2.6017 - precision: 0.3750 - recall: 0.0183 - f1_score: 0.0290 - val_loss: 4.4288 - val_precision: 0.2371 - val_recall: 0.1292 - val_f1_score: 0.1588 - 38s/epoch - 234ms/step\n",
            "Epoch 25/50\n",
            "164/164 - 36s - loss: 2.6121 - precision: 0.4667 - recall: 0.0171 - f1_score: 0.0282 - val_loss: 3.9948 - val_precision: 0.2584 - val_recall: 0.1292 - val_f1_score: 0.1633 - 36s/epoch - 219ms/step\n",
            "Epoch 26/50\n",
            "164/164 - 36s - loss: 2.5741 - precision: 0.4048 - recall: 0.0207 - f1_score: 0.0340 - val_loss: 4.4830 - val_precision: 0.2233 - val_recall: 0.1292 - val_f1_score: 0.1637 - 36s/epoch - 217ms/step\n",
            "Epoch 27/50\n",
            "164/164 - 36s - loss: 2.5400 - precision: 0.4333 - recall: 0.0317 - f1_score: 0.0501 - val_loss: 4.6432 - val_precision: 0.1818 - val_recall: 0.1011 - val_f1_score: 0.1278 - 36s/epoch - 218ms/step\n",
            "Epoch 28/50\n",
            "164/164 - 36s - loss: 2.5991 - precision: 0.5111 - recall: 0.0280 - f1_score: 0.0453 - val_loss: 4.7733 - val_precision: 0.1842 - val_recall: 0.1180 - val_f1_score: 0.1398 - 36s/epoch - 220ms/step\n",
            "Epoch 29/50\n",
            "164/164 - 36s - loss: 2.5449 - precision: 0.5085 - recall: 0.0366 - f1_score: 0.0587 - val_loss: 4.9108 - val_precision: 0.1604 - val_recall: 0.0955 - val_f1_score: 0.1175 - 36s/epoch - 219ms/step\n",
            "Epoch 30/50\n",
            "164/164 - 38s - loss: 2.5731 - precision: 0.5294 - recall: 0.0329 - f1_score: 0.0528 - val_loss: 5.2838 - val_precision: 0.1525 - val_recall: 0.1011 - val_f1_score: 0.1212 - 38s/epoch - 234ms/step\n",
            "Epoch 31/50\n",
            "164/164 - 36s - loss: 2.5583 - precision: 0.5128 - recall: 0.0244 - f1_score: 0.0389 - val_loss: 5.1374 - val_precision: 0.1759 - val_recall: 0.1067 - val_f1_score: 0.1197 - 36s/epoch - 217ms/step\n",
            "Epoch 32/50\n",
            "164/164 - 36s - loss: 2.5883 - precision: 0.5172 - recall: 0.0366 - f1_score: 0.0578 - val_loss: 4.8661 - val_precision: 0.1776 - val_recall: 0.1067 - val_f1_score: 0.1243 - 36s/epoch - 219ms/step\n",
            "Epoch 33/50\n",
            "164/164 - 36s - loss: 2.5961 - precision: 0.3095 - recall: 0.0159 - f1_score: 0.0258 - val_loss: 5.6550 - val_precision: 0.1681 - val_recall: 0.1067 - val_f1_score: 0.1381 - 36s/epoch - 219ms/step\n",
            "Epoch 34/50\n",
            "164/164 - 36s - loss: 2.5495 - precision: 0.5556 - recall: 0.0366 - f1_score: 0.0592 - val_loss: 5.3977 - val_precision: 0.2130 - val_recall: 0.1292 - val_f1_score: 0.1444 - 36s/epoch - 217ms/step\n",
            "Epoch 35/50\n",
            "164/164 - 36s - loss: 2.5454 - precision: 0.5000 - recall: 0.0341 - f1_score: 0.0555 - val_loss: 5.5114 - val_precision: 0.1900 - val_recall: 0.1067 - val_f1_score: 0.1391 - 36s/epoch - 217ms/step\n",
            "Epoch 36/50\n",
            "164/164 - 37s - loss: 2.5488 - precision: 0.6094 - recall: 0.0476 - f1_score: 0.0738 - val_loss: 5.5977 - val_precision: 0.1560 - val_recall: 0.0955 - val_f1_score: 0.1093 - 37s/epoch - 224ms/step\n",
            "Epoch 37/50\n",
            "164/164 - 36s - loss: 2.6102 - precision: 0.5185 - recall: 0.0341 - f1_score: 0.0542 - val_loss: 5.1187 - val_precision: 0.2212 - val_recall: 0.1292 - val_f1_score: 0.1619 - 36s/epoch - 218ms/step\n",
            "Epoch 38/50\n",
            "164/164 - 36s - loss: 2.5254 - precision: 0.4810 - recall: 0.0463 - f1_score: 0.0722 - val_loss: 5.2969 - val_precision: 0.1800 - val_recall: 0.1011 - val_f1_score: 0.1239 - 36s/epoch - 219ms/step\n",
            "Epoch 39/50\n",
            "164/164 - 36s - loss: 2.5592 - precision: 0.5918 - recall: 0.0354 - f1_score: 0.0587 - val_loss: 5.2623 - val_precision: 0.1909 - val_recall: 0.1180 - val_f1_score: 0.1370 - 36s/epoch - 219ms/step\n",
            "Epoch 40/50\n",
            "164/164 - 36s - loss: 2.5371 - precision: 0.5806 - recall: 0.0439 - f1_score: 0.0689 - val_loss: 5.2394 - val_precision: 0.1913 - val_recall: 0.1236 - val_f1_score: 0.1421 - 36s/epoch - 219ms/step\n",
            "Epoch 41/50\n",
            "164/164 - 38s - loss: 2.5456 - precision: 0.5476 - recall: 0.0280 - f1_score: 0.0462 - val_loss: 5.8044 - val_precision: 0.1565 - val_recall: 0.1011 - val_f1_score: 0.1221 - 38s/epoch - 232ms/step\n",
            "Epoch 42/50\n",
            "164/164 - 36s - loss: 2.5488 - precision: 0.4630 - recall: 0.0305 - f1_score: 0.0478 - val_loss: 6.2885 - val_precision: 0.1545 - val_recall: 0.1067 - val_f1_score: 0.1205 - 36s/epoch - 217ms/step\n",
            "Epoch 43/50\n",
            "164/164 - 36s - loss: 2.5686 - precision: 0.5156 - recall: 0.0402 - f1_score: 0.0659 - val_loss: 6.0956 - val_precision: 0.1293 - val_recall: 0.0843 - val_f1_score: 0.0997 - 36s/epoch - 219ms/step\n",
            "Epoch 44/50\n",
            "164/164 - 36s - loss: 2.5766 - precision: 0.4776 - recall: 0.0390 - f1_score: 0.0625 - val_loss: 5.8488 - val_precision: 0.1696 - val_recall: 0.1067 - val_f1_score: 0.1325 - 36s/epoch - 217ms/step\n",
            "Epoch 45/50\n",
            "164/164 - 36s - loss: 2.5576 - precision: 0.5102 - recall: 0.0305 - f1_score: 0.0491 - val_loss: 5.6350 - val_precision: 0.1750 - val_recall: 0.1180 - val_f1_score: 0.1410 - 36s/epoch - 216ms/step\n",
            "Epoch 46/50\n",
            "164/164 - 36s - loss: 2.5507 - precision: 0.5500 - recall: 0.0402 - f1_score: 0.0653 - val_loss: 5.1773 - val_precision: 0.1930 - val_recall: 0.1236 - val_f1_score: 0.1433 - 36s/epoch - 217ms/step\n",
            "Epoch 47/50\n",
            "164/164 - 38s - loss: 2.5716 - precision: 0.5000 - recall: 0.0256 - f1_score: 0.0418 - val_loss: 5.2247 - val_precision: 0.1905 - val_recall: 0.1124 - val_f1_score: 0.1410 - 38s/epoch - 231ms/step\n",
            "Epoch 48/50\n",
            "164/164 - 35s - loss: 2.5278 - precision: 0.5098 - recall: 0.0317 - f1_score: 0.0488 - val_loss: 5.6677 - val_precision: 0.1842 - val_recall: 0.1180 - val_f1_score: 0.1375 - 35s/epoch - 216ms/step\n",
            "Epoch 49/50\n",
            "164/164 - 36s - loss: 2.5112 - precision: 0.5714 - recall: 0.0439 - f1_score: 0.0696 - val_loss: 6.0159 - val_precision: 0.1897 - val_recall: 0.1236 - val_f1_score: 0.1509 - 36s/epoch - 217ms/step\n",
            "Epoch 50/50\n",
            "164/164 - 36s - loss: 2.5448 - precision: 0.5357 - recall: 0.0366 - f1_score: 0.0571 - val_loss: 5.9349 - val_precision: 0.1681 - val_recall: 0.1067 - val_f1_score: 0.1241 - 36s/epoch - 220ms/step\n"
          ]
        }
      ]
    },
    {
      "cell_type": "code",
      "source": [
        "#References:\n",
        "\n",
        "#https://stackoverflow.com/questions/53074712/how-to-split-folder-of-images-into-test-training-validation-sets-with-stratified\n",
        "#https://pypi.org/project/split-folders/\n",
        "#https://www.tutorialkart.com/opencv/python/opencv-python-resize-image/\n",
        "#https://stackoverflow.com/questions/30230592/loading-all-images-using-imread-from-a-given-folder\n",
        "#https://keras.io/\n",
        "#https://keras.io/api/data_loading/\n",
        "#https://stackoverflow.com/questions/69616500/keras-one-hot-for-labels-in-image-dataset-from-directory\n",
        "#https://stackoverflow.com/questions/44887367/tensorflow-tf-one-hot-why-the-shape-of-output-is-defined-by-the-value-of-axis\n",
        "#https://stackoverflow.com/questions/56226621/how-to-extract-data-labels-back-from-tensorflow-dataset\n",
        "#https://www.learndatasci.com/tutorials/hands-on-transfer-learning-keras/\n",
        "#https://www.kaggle.com/code/yasserhessein/alzheimer-s-classification-efficientnetb0"
      ],
      "metadata": {
        "id": "aTcSkIQYcsOA"
      },
      "execution_count": null,
      "outputs": []
    }
  ]
}